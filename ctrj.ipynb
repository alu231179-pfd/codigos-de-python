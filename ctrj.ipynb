{
  "nbformat": 4,
  "nbformat_minor": 0,
  "metadata": {
    "colab": {
      "provenance": [],
      "authorship_tag": "ABX9TyN0kzo9RBqvSmfSs2dZtw3V",
      "include_colab_link": true
    },
    "kernelspec": {
      "name": "python3",
      "display_name": "Python 3"
    },
    "language_info": {
      "name": "python"
    }
  },
  "cells": [
    {
      "cell_type": "markdown",
      "metadata": {
        "id": "view-in-github",
        "colab_type": "text"
      },
      "source": [
        "<a href=\"https://colab.research.google.com/github/alu231179-pfd/codigos-de-python/blob/main/ctrj.ipynb\" target=\"_parent\"><img src=\"https://colab.research.google.com/assets/colab-badge.svg\" alt=\"Open In Colab\"/></a>"
      ]
    },
    {
      "cell_type": "code",
      "execution_count": null,
      "metadata": {
        "id": "cTdOl2zL_nZZ"
      },
      "outputs": [],
      "source": [
        "realiza un programa en python que te permita capturar 3 numeros enteros e imprima cual de los 3 es el mayor"
      ]
    },
    {
      "cell_type": "code",
      "source": [
        "num1 = int(input(\"ingresa el primer numero : \"))\n",
        "num2 = int(input(\"ingresa el segundo numero\"))\n",
        "num3 = int(input(\"ingresa el tercer numero\"))\n",
        "\n",
        "if num1 >= num2 and num1 >= num3:\n",
        "  print(f\"el numero mayor es :{num1}\")\n",
        "elif num2 >= num1 and num2 >= num3:\n",
        "  print(f\"el numero mayor es : {num2}\")\n",
        "else:\n",
        "  print(f\"el numero mayor es : {num3}\")"
      ],
      "metadata": {
        "colab": {
          "base_uri": "https://localhost:8080/"
        },
        "id": "bpsr-TmoA83H",
        "outputId": "ba3cc941-cb70-472d-fb0e-d57defb4738d"
      },
      "execution_count": 1,
      "outputs": [
        {
          "output_type": "stream",
          "name": "stdout",
          "text": [
            "ingresa el primer numero :  7\n",
            "ingresa el segundo numero 8\n",
            "ingresa el tercer numero 9 \n",
            "el numero mayor es : 9\n"
          ]
        }
      ]
    },
    {
      "cell_type": "markdown",
      "source": [],
      "metadata": {
        "id": "tTv-oW-2Acrp"
      }
    },
    {
      "cell_type": "markdown",
      "source": [
        "realizar un programa en python mediante cual calcules el total de caracteristicas que tiene un nombre capturado desde el teclado"
      ],
      "metadata": {
        "id": "e-sx0Jd9DmYt"
      }
    },
    {
      "cell_type": "code",
      "source": [
        "nombre = input(\"Ingresa tu nombre: \")\n",
        "\n",
        "total_caracteres = len(nombre)\n",
        "\n",
        "print(f\"El nombre '{nombre}' tiene {total_caracteres }caracteres.\")"
      ],
      "metadata": {
        "colab": {
          "base_uri": "https://localhost:8080/"
        },
        "id": "S5hvRW2LEAX8",
        "outputId": "57a5b4c3-7437-46f4-9918-1866dcdb77f6"
      },
      "execution_count": 2,
      "outputs": [
        {
          "output_type": "stream",
          "name": "stdout",
          "text": [
            "Ingresa tu nombre:  rodrigo\n",
            "El nombre ' rodrigo' tiene 8caracteres.\n"
          ]
        }
      ]
    },
    {
      "cell_type": "markdown",
      "source": [
        "Realiza un programa en python que permita imprimir los 7 dias de la semana"
      ],
      "metadata": {
        "id": "SuuCYBS-FcXq"
      }
    },
    {
      "cell_type": "code",
      "source": [
        "dias =[\"lunes\", \"martes\", \"miercoles\", \"jueves \", \"viernes\",\"sabado\",\"domingo\"]\n",
        "\n",
        "print(\"los dias de la semana son:\")\n",
        "for dia in dias:\n",
        "  print(dia )"
      ],
      "metadata": {
        "colab": {
          "base_uri": "https://localhost:8080/"
        },
        "id": "FWQOEJqfF9iG",
        "outputId": "fcf1a99d-1f8a-4102-d6e4-b8aa910ba68d"
      },
      "execution_count": 3,
      "outputs": [
        {
          "output_type": "stream",
          "name": "stdout",
          "text": [
            "los dias de la semana son:\n",
            "lunes\n",
            "martes\n",
            "miercoles\n",
            "jueves \n",
            "viernes\n",
            "sabado\n",
            "domingo\n"
          ]
        }
      ]
    }
  ]
}